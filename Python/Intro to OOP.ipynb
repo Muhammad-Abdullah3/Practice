{
 "cells": [
  {
   "attachments": {},
   "cell_type": "markdown",
   "metadata": {},
   "source": [
    "# Creating a class"
   ]
  },
  {
   "cell_type": "code",
   "execution_count": 1,
   "metadata": {},
   "outputs": [],
   "source": [
    "# Example - Using a toy circle class"
   ]
  },
  {
   "cell_type": "code",
   "execution_count": 3,
   "metadata": {},
   "outputs": [],
   "source": [
    "from math import pi"
   ]
  },
  {
   "cell_type": "code",
   "execution_count": 11,
   "metadata": {},
   "outputs": [],
   "source": [
    "class CircleArea:\n",
    "    \"\"\"A circle instance models a circle with a radius.\"\"\"\n",
    "    def __init__(self, radius = 1.0):\n",
    "        \"\"\"This is a not a constructor but rather an intializer, or dunder method. Initially every object's value of radius is set to 1.0\"\"\"\n",
    "        self.radius = radius\n",
    "    def __str__(self):\n",
    "        return 'This is a circle with radius of {:.2f}'.format(self.radius)\n",
    "    def calculate_area(self):\n",
    "        area = self.radius*2*pi\n",
    "        return area"
   ]
  },
  {
   "cell_type": "code",
   "execution_count": 12,
   "metadata": {},
   "outputs": [
    {
     "name": "stdout",
     "output_type": "stream",
     "text": [
      "This is a circle with radius of 3.60\n",
      "22.61946710584651\n",
      "3.6\n"
     ]
    }
   ],
   "source": [
    "ca1 = CircleArea(3.6)\n",
    "# An instance is made\n",
    "print(ca1)\n",
    "# This line invokes and dunder function or generator str is called.\n",
    "print(ca1.calculate_area())\n",
    "print(ca1.radius)"
   ]
  },
  {
   "cell_type": "code",
   "execution_count": 13,
   "metadata": {},
   "outputs": [
    {
     "name": "stdout",
     "output_type": "stream",
     "text": [
      "This is a circle with radius of 5.00\n",
      "31.41592653589793\n",
      "5.0\n"
     ]
    }
   ],
   "source": [
    "# new instance creation\n",
    "ca2 = CircleArea(5.0)\n",
    "print(ca2)\n",
    "print(ca2.calculate_area())\n",
    "print(ca2.radius)"
   ]
  },
  {
   "cell_type": "code",
   "execution_count": 14,
   "metadata": {},
   "outputs": [
    {
     "data": {
      "text/plain": [
       "1894172180112"
      ]
     },
     "execution_count": 14,
     "metadata": {},
     "output_type": "execute_result"
    }
   ],
   "source": [
    "id(ca1)"
   ]
  },
  {
   "cell_type": "code",
   "execution_count": 15,
   "metadata": {},
   "outputs": [
    {
     "data": {
      "text/plain": [
       "1894166815440"
      ]
     },
     "execution_count": 15,
     "metadata": {},
     "output_type": "execute_result"
    }
   ],
   "source": [
    "id(ca2)"
   ]
  },
  {
   "attachments": {},
   "cell_type": "markdown",
   "metadata": {},
   "source": [
    "As we can see both instances are stored in different memory location"
   ]
  },
  {
   "attachments": {},
   "cell_type": "markdown",
   "metadata": {},
   "source": [
    "# Class Methods, Instance Methods and Static Methods"
   ]
  },
  {
   "attachments": {},
   "cell_type": "markdown",
   "metadata": {},
   "source": [
    "1: Class method(decorator)\n",
    "A class method belongs to a class and is a funciton of the class\n",
    "It is defined with @classmethod decorator. It accepts the class as it's first argument "
   ]
  },
  {
   "cell_type": "code",
   "execution_count": 16,
   "metadata": {},
   "outputs": [],
   "source": [
    "# Example\n",
    "class MyClass:\n",
    "    @classmethod\n",
    "    def Hello(self, name):\n",
    "        print(self)\n",
    "        print('Hello from', self.__name__,',',name)\n"
   ]
  },
  {
   "cell_type": "code",
   "execution_count": 17,
   "metadata": {},
   "outputs": [
    {
     "name": "stdout",
     "output_type": "stream",
     "text": [
      "<class '__main__.MyClass'>\n",
      "Hello from MyClass , Abdullah\n"
     ]
    }
   ],
   "source": [
    "MyClass.Hello('Abdullah')"
   ]
  },
  {
   "attachments": {},
   "cell_type": "markdown",
   "metadata": {},
   "source": [
    "Instance method are the most common type of methods which we've already covered"
   ]
  },
  {
   "attachments": {},
   "cell_type": "markdown",
   "metadata": {},
   "source": [
    "Static Mehtod (Decorator @staticmethod)\n",
    "    A static method is declared with a @staticmethod decorator\n",
    "    It \"doesn't know its class\" and is attached ot class for convenience.\n",
    "    It does not depend on the state of the object and could be separate function of a module\n",
    "    A static method can be invoked via a class object or instance object\n",
    "    "
   ]
  },
  {
   "attachments": {},
   "cell_type": "markdown",
   "metadata": {},
   "source": [
    "# Example"
   ]
  },
  {
   "cell_type": "code",
   "execution_count": 18,
   "metadata": {},
   "outputs": [],
   "source": [
    "class MyClass:\n",
    "    @staticmethod\n",
    "    def hello():\n",
    "        print(\"Hello there, world.\")"
   ]
  },
  {
   "cell_type": "code",
   "execution_count": 19,
   "metadata": {},
   "outputs": [
    {
     "name": "stdout",
     "output_type": "stream",
     "text": [
      "Hello there, world.\n"
     ]
    }
   ],
   "source": [
    "myinstance = MyClass()\n",
    "myinstance.hello()"
   ]
  },
  {
   "cell_type": "code",
   "execution_count": 20,
   "metadata": {},
   "outputs": [
    {
     "name": "stdout",
     "output_type": "stream",
     "text": [
      "Hello there, world.\n"
     ]
    }
   ],
   "source": [
    "MyClass.hello()"
   ]
  },
  {
   "cell_type": "code",
   "execution_count": null,
   "metadata": {},
   "outputs": [],
   "source": []
  }
 ],
 "metadata": {
  "kernelspec": {
   "display_name": "Python 3",
   "language": "python",
   "name": "python3"
  },
  "language_info": {
   "codemirror_mode": {
    "name": "ipython",
    "version": 3
   },
   "file_extension": ".py",
   "mimetype": "text/x-python",
   "name": "python",
   "nbconvert_exporter": "python",
   "pygments_lexer": "ipython3",
   "version": "3.11.1"
  },
  "orig_nbformat": 4
 },
 "nbformat": 4,
 "nbformat_minor": 2
}
