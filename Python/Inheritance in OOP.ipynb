{
 "cells": [
  {
   "cell_type": "markdown",
   "metadata": {},
   "source": [
    "# Inheritance"
   ]
  },
  {
   "attachments": {},
   "cell_type": "markdown",
   "metadata": {},
   "source": [
    "# Example"
   ]
  },
  {
   "cell_type": "code",
   "execution_count": 20,
   "metadata": {},
   "outputs": [],
   "source": [
    "from math import pi\n",
    "class CircleArea:\n",
    "    \"\"\"A circle instance models a circle with a radius.\"\"\"\n",
    "    def __init__(self, radius = 1.0):\n",
    "        \"\"\"This is a not a constructor but rather an intializer, or dunder method. Initially every object's value of radius is set to 1.0\"\"\"\n",
    "        self.radius = radius\n",
    "    def __str__(self):\n",
    "        return 'This is a circle with radius of {:.2f}'.format(self.radius)\n",
    "    def calculate_area(self):\n",
    "        area = self.radius*2*pi\n",
    "        return area"
   ]
  },
  {
   "attachments": {},
   "cell_type": "markdown",
   "metadata": {},
   "source": [
    "We will now create a sub class of the super class given above"
   ]
  },
  {
   "cell_type": "code",
   "execution_count": 13,
   "metadata": {},
   "outputs": [],
   "source": [
    "class CylinderVolume(CircleArea):\n",
    "    \"\"\"Initializer\"\"\"\n",
    "    def __init__(self, radius = 1.0,height = 1.0):\n",
    "        \"\"\"This is a not a constructor but rather an intializer, or dunder method. Initially every object's value of height set to 1.0. And invoking the superclass dunder method\"\"\"\n",
    "        super().__init__(radius)\n",
    "        self.height = height\n",
    "    def __str__(self):\n",
    "        \"\"\"If there is no __str__() in the derived class or sub class then the print() will invoke the constructor __str__() in the base class.\"\"\"\n",
    "        return 'Cylinder (radius={},height={})'.format(self.radius,self.height)\n",
    "    def GetVolume(self):\n",
    "        \"\"\"Function to get volume of cylinder.\"\"\"\n",
    "        Volume = self.radius*self.height \n",
    "        return Volume"
   ]
  },
  {
   "cell_type": "code",
   "execution_count": 14,
   "metadata": {},
   "outputs": [],
   "source": [
    "CV1 = CylinderVolume(3.4,5.1)"
   ]
  },
  {
   "cell_type": "code",
   "execution_count": 15,
   "metadata": {},
   "outputs": [
    {
     "name": "stdout",
     "output_type": "stream",
     "text": [
      "Cylinder (radius=3.4,height=5.1)\n"
     ]
    }
   ],
   "source": [
    "print(CV1)"
   ]
  },
  {
   "cell_type": "code",
   "execution_count": 16,
   "metadata": {},
   "outputs": [
    {
     "name": "stdout",
     "output_type": "stream",
     "text": [
      "3.4\n",
      "5.1\n"
     ]
    },
    {
     "data": {
      "text/plain": [
       "17.34"
      ]
     },
     "execution_count": 16,
     "metadata": {},
     "output_type": "execute_result"
    }
   ],
   "source": [
    "print(CV1.radius)\n",
    "print(CV1.height)\n",
    "CV1.GetVolume()"
   ]
  },
  {
   "cell_type": "code",
   "execution_count": 17,
   "metadata": {},
   "outputs": [
    {
     "name": "stdout",
     "output_type": "stream",
     "text": [
      "['GetVolume', '__class__', '__delattr__', '__dict__', '__dir__', '__doc__', '__eq__', '__format__', '__ge__', '__getattribute__', '__getstate__', '__gt__', '__hash__', '__init__', '__init_subclass__', '__le__', '__lt__', '__module__', '__ne__', '__new__', '__reduce__', '__reduce_ex__', '__repr__', '__setattr__', '__sizeof__', '__str__', '__subclasshook__', '__weakref__', 'calculate_area', 'height', 'radius']\n"
     ]
    }
   ],
   "source": [
    "print(dir(CV1))"
   ]
  },
  {
   "cell_type": "code",
   "execution_count": 21,
   "metadata": {},
   "outputs": [
    {
     "name": "stdout",
     "output_type": "stream",
     "text": [
      "This is a circle with radius of 12.00\n"
     ]
    },
    {
     "data": {
      "text/plain": [
       "75.39822368615503"
      ]
     },
     "execution_count": 21,
     "metadata": {},
     "output_type": "execute_result"
    }
   ],
   "source": [
    "# Creating an instance of Superclass\n",
    "CA1 = CircleArea(12)\n",
    "print(CA1)\n",
    "CA1.calculate_area()"
   ]
  },
  {
   "cell_type": "code",
   "execution_count": 23,
   "metadata": {},
   "outputs": [
    {
     "name": "stdout",
     "output_type": "stream",
     "text": [
      "True\n",
      "False\n"
     ]
    }
   ],
   "source": [
    "print(isinstance(CA1,CircleArea))\n",
    "print(isinstance(CA1,CylinderVolume))"
   ]
  },
  {
   "attachments": {},
   "cell_type": "markdown",
   "metadata": {},
   "source": [
    "As CA1 is not an instance of sub class so the above statement returns false"
   ]
  },
  {
   "cell_type": "code",
   "execution_count": null,
   "metadata": {},
   "outputs": [],
   "source": []
  }
 ],
 "metadata": {
  "kernelspec": {
   "display_name": "Python 3",
   "language": "python",
   "name": "python3"
  },
  "language_info": {
   "codemirror_mode": {
    "name": "ipython",
    "version": 3
   },
   "file_extension": ".py",
   "mimetype": "text/x-python",
   "name": "python",
   "nbconvert_exporter": "python",
   "pygments_lexer": "ipython3",
   "version": "3.11.1"
  },
  "orig_nbformat": 4
 },
 "nbformat": 4,
 "nbformat_minor": 2
}
