{
 "cells": [
  {
   "attachments": {},
   "cell_type": "markdown",
   "metadata": {},
   "source": [
    "# Q No1: \n",
    "Create a list with store all the prime numbers in it till 100 and print the length of that list?"
   ]
  },
  {
   "cell_type": "code",
   "execution_count": null,
   "metadata": {},
   "outputs": [],
   "source": [
    "\n",
    "def prime(n):\n",
    "    \"\"\"\n",
    "    Returns a list of all prime numbers up to and including n.\n",
    "    \"\"\"\n",
    "    primes = []\n",
    "    for num in range(2, n + 1):\n",
    "        # Assume num is prime until proven otherwise\n",
    "        is_prime = True\n",
    "        # Check if num is divisible by any integer from 2 to its square root\n",
    "        for i in range(2, int(num ** 0.5) + 1):\n",
    "            if num % i == 0:\n",
    "                is_prime = False\n",
    "                break\n",
    "        # If num is prime, add it to the list\n",
    "        if is_prime:\n",
    "            primes.append(num)\n",
    "    length = \"Total Primes: {}\".format(len(primes))    \n",
    "    return length,primes\n",
    "prime(100)"
   ]
  },
  {
   "attachments": {},
   "cell_type": "markdown",
   "metadata": {},
   "source": [
    "# Q No 2:\n",
    "Create a program that prints the fibonacci sequence using while loop?\n"
   ]
  },
  {
   "cell_type": "code",
   "execution_count": null,
   "metadata": {},
   "outputs": [],
   "source": [
    "count = int(input(\"Enter the number upto which you would like to generate fibbonaci sequence to:\",))\n",
    "i = 1\n",
    "if count==0:\n",
    "    fib = []\n",
    "elif count == 1:\n",
    "    fib = [1]\n",
    "elif count > 2:\n",
    "    fib = [1,1]\n",
    "    while i<(count-1):\n",
    "        fib.append(fib[i]+fib[i-1])\n",
    "        i+=1\n",
    "fib \n"
   ]
  },
  {
   "attachments": {},
   "cell_type": "markdown",
   "metadata": {},
   "source": [
    "# Q No 3:\n",
    "Write a program that takes 2 digits as an input X, Y and generates a 2 dimensional array?\n",
    "The value of the item on ith row and jth column should be i*j. This program must be written with the help of for loop."
   ]
  },
  {
   "cell_type": "code",
   "execution_count": null,
   "metadata": {},
   "outputs": [],
   "source": [
    "input_dim = input(\"Enter the array dimensions:\",)\n",
    "print(input_dim)\n",
    "\n",
    "dimensions = [int(x) for x in input_dim.split(',')]\n",
    "RowNum = dimensions[0]\n",
    "ColNum = dimensions[1]\n",
    "# Creating the list or array in which we will store the values. using Ternary operations\n",
    "MultiDimList = [[0 for Col in range(ColNum)] for Row in range(RowNum)]\n",
    "# Using for loop to define the value of each items in the array.\n",
    "for Row in range(RowNum):\n",
    "    for Col in range(ColNum):\n",
    "        MultiDimList[Row][Col] = Row*Col\n",
    "MultiDimList"
   ]
  },
  {
   "attachments": {},
   "cell_type": "markdown",
   "metadata": {},
   "source": [
    "# Remember the first number in python starts from zero"
   ]
  }
 ],
 "metadata": {
  "kernelspec": {
   "display_name": "Python 3",
   "language": "python",
   "name": "python3"
  },
  "language_info": {
   "codemirror_mode": {
    "name": "ipython",
    "version": 3
   },
   "file_extension": ".py",
   "mimetype": "text/x-python",
   "name": "python",
   "nbconvert_exporter": "python",
   "pygments_lexer": "ipython3",
   "version": "3.11.1"
  },
  "orig_nbformat": 4
 },
 "nbformat": 4,
 "nbformat_minor": 2
}
