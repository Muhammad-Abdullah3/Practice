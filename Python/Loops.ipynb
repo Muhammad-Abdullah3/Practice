{
 "cells": [
  {
   "cell_type": "markdown",
   "metadata": {},
   "source": [
    "# While loop"
   ]
  },
  {
   "cell_type": "code",
   "execution_count": 2,
   "metadata": {},
   "outputs": [
    {
     "name": "stdout",
     "output_type": "stream",
     "text": [
      "Value of n is 0\n",
      "Value of n is 1\n",
      "Value of n is 2\n",
      "Value of n is 3\n",
      "Value of n is 4\n",
      "Value of n is 5\n",
      "Value of n is 6\n"
     ]
    }
   ],
   "source": [
    "n = 0\n",
    "while n<=6:\n",
    "    print(\"Value of n is {}\".format(n))\n",
    "    n +=1"
   ]
  },
  {
   "cell_type": "code",
   "execution_count": 3,
   "metadata": {},
   "outputs": [
    {
     "name": "stdout",
     "output_type": "stream",
     "text": [
      "This is iteration number 1\n",
      "\n",
      " 9\n",
      "This is iteration number 2\n",
      "\n",
      " 237\n",
      "This is iteration number 3\n",
      "\n",
      " 6\n",
      "This is iteration number 4\n",
      "\n",
      " 5\n",
      "This is iteration number 5\n",
      "\n",
      " 4\n",
      "This is iteration number 6\n",
      "\n",
      " 34\n"
     ]
    }
   ],
   "source": [
    "# Another Example\n",
    "a = [34,4,5,6,237,9]\n",
    "x = 1\n",
    "while a:\n",
    "    print(\"This is iteration number {}\".format(x))\n",
    "    print(\"\\n\",a.pop())\n",
    "    x+=1"
   ]
  },
  {
   "cell_type": "code",
   "execution_count": 5,
   "metadata": {},
   "outputs": [
    {
     "data": {
      "text/plain": [
       "[]"
      ]
     },
     "execution_count": 5,
     "metadata": {},
     "output_type": "execute_result"
    }
   ],
   "source": [
    "a"
   ]
  },
  {
   "attachments": {},
   "cell_type": "markdown",
   "metadata": {},
   "source": [
    "# Nested while loop\n",
    "As its name suggests we can nest any control structure in a while loop i.e conditional statements and Looping or iter statements"
   ]
  },
  {
   "cell_type": "code",
   "execution_count": 2,
   "metadata": {},
   "outputs": [
    {
     "name": "stdout",
     "output_type": "stream",
     "text": [
      "The number is outer loop number is 0\n",
      "\tThe inner loop number is 0\n",
      "\tThe inner loop number is 1\n",
      "\tThe inner loop number is 2\n",
      "\tThe inner loop number is 3\n",
      "\tThe inner loop number is 4\n",
      "The number is outer loop number is 1\n",
      "\tThe inner loop number is 0\n",
      "\tThe inner loop number is 1\n",
      "\tThe inner loop number is 2\n",
      "\tThe inner loop number is 3\n",
      "\tThe inner loop number is 4\n",
      "The number is outer loop number is 2\n",
      "\tThe inner loop number is 0\n",
      "\tThe inner loop number is 1\n",
      "\tThe inner loop number is 2\n",
      "\tThe inner loop number is 3\n",
      "\tThe inner loop number is 4\n",
      "The number is outer loop number is 3\n",
      "\tThe inner loop number is 0\n",
      "\tThe inner loop number is 1\n",
      "\tThe inner loop number is 2\n",
      "\tThe inner loop number is 3\n",
      "\tThe inner loop number is 4\n",
      "The number is outer loop number is 4\n",
      "\tThe inner loop number is 0\n",
      "\tThe inner loop number is 1\n",
      "\tThe inner loop number is 2\n",
      "\tThe inner loop number is 3\n",
      "\tThe inner loop number is 4\n"
     ]
    }
   ],
   "source": [
    "n = 0\n",
    "while n<5:\n",
    "    m = 0\n",
    "    print(\"The number is outer loop number is {}\".format(n))\n",
    "    while m<5:\n",
    "        print(\"\\tThe inner loop number is {}\".format(m))\n",
    "        m+=1\n",
    "    n +=1"
   ]
  },
  {
   "cell_type": "markdown",
   "metadata": {},
   "source": [
    "# For Loop"
   ]
  },
  {
   "attachments": {},
   "cell_type": "markdown",
   "metadata": {},
   "source": [
    "i = 0\n",
    "for "
   ]
  }
 ],
 "metadata": {
  "kernelspec": {
   "display_name": "Python 3",
   "language": "python",
   "name": "python3"
  },
  "language_info": {
   "codemirror_mode": {
    "name": "ipython",
    "version": 3
   },
   "file_extension": ".py",
   "mimetype": "text/x-python",
   "name": "python",
   "nbconvert_exporter": "python",
   "pygments_lexer": "ipython3",
   "version": "3.11.1"
  },
  "orig_nbformat": 4
 },
 "nbformat": 4,
 "nbformat_minor": 2
}
